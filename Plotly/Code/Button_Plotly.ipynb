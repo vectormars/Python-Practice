{
 "cells": [
  {
   "cell_type": "code",
   "execution_count": 1,
   "metadata": {},
   "outputs": [],
   "source": [
    "import plotly.offline as pyo\n",
    "import plotly.graph_objs as go\n",
    "import numpy as np"
   ]
  },
  {
   "cell_type": "code",
   "execution_count": 2,
   "metadata": {},
   "outputs": [],
   "source": [
    "x0 = np.random.normal(2, 0.4, 400)\n",
    "y0 = np.random.normal(2, 0.4, 400)\n",
    "x1 = np.random.normal(3, 0.6, 600)\n",
    "y1 = np.random.normal(6, 0.4, 400)\n",
    "x2 = np.random.normal(4, 0.2, 200)\n",
    "y2 = np.random.normal(4, 0.4, 200)"
   ]
  },
  {
   "cell_type": "code",
   "execution_count": 3,
   "metadata": {},
   "outputs": [],
   "source": [
    "trace0 = go.Scatter(\n",
    "    x=x0,\n",
    "    y=y0,\n",
    "    mode='markers',\n",
    "    marker=dict(color='#835AF1')\n",
    ")\n",
    "trace1 = go.Scatter(\n",
    "    x=x1,\n",
    "    y=y1,\n",
    "    mode='markers',\n",
    "    marker=dict(color='#7FA6EE')\n",
    ")\n",
    "trace2 = go.Scatter(\n",
    "    x=x2,\n",
    "    y=y2,\n",
    "    mode='markers',\n",
    "    marker=dict(color='#B8F7D4')\n",
    ")\n",
    "data = [trace0, trace1, trace2]"
   ]
  },
  {
   "cell_type": "code",
   "execution_count": 4,
   "metadata": {},
   "outputs": [],
   "source": [
    "cluster0 = [dict(type='circle',\n",
    "                 xref='x', yref='y',\n",
    "                 x0=min(x0), y0=min(y0), \n",
    "                 x1=max(x0), y1=max(y0), \n",
    "                 opacity=.25,\n",
    "                 line=dict(color='#835AF1'),\n",
    "                 fillcolor='#835AF1')]\n",
    "cluster1 = [dict(type='circle',\n",
    "                 xref='x', yref='y',\n",
    "                 x0=min(x1), y0=min(y1), \n",
    "                 x1=max(x1), y1=max(y1), \n",
    "                 opacity=.25,\n",
    "                 line=dict(color='#7FA6EE'),\n",
    "                 fillcolor='#7FA6EE')]\n",
    "cluster2 = [dict(type='circle',\n",
    "                 xref='x', yref='y',\n",
    "                 x0=min(x2), y0=min(y2), \n",
    "                 x1=max(x2), y1=max(y2), \n",
    "                 opacity=.25,\n",
    "                 line=dict(color='#B8F7D4'),\n",
    "                 fillcolor='#B8F7D4')]"
   ]
  },
  {
   "cell_type": "code",
   "execution_count": 5,
   "metadata": {},
   "outputs": [],
   "source": [
    "updatemenus = list([\n",
    "    dict(type=\"buttons\",\n",
    "         buttons=list([   \n",
    "            dict(label = 'None',\n",
    "                 method = 'relayout',\n",
    "                 args = ['shapes', []]),\n",
    "            dict(label = 'Cluster 0',\n",
    "                 method = 'relayout',\n",
    "                 args = ['shapes', cluster0]),\n",
    "            dict(label = 'Cluster 1',\n",
    "                 method = 'relayout',\n",
    "                 args = ['shapes', cluster1]),\n",
    "            dict(label = 'Cluster 2',\n",
    "                 method = 'relayout',\n",
    "                 args = ['shapes', cluster2]),\n",
    "            dict(label = 'All',\n",
    "                 method = 'relayout',\n",
    "                 args = ['shapes', cluster0+cluster1+cluster2])\n",
    "        ]),\n",
    "    )\n",
    "])"
   ]
  },
  {
   "cell_type": "code",
   "execution_count": 6,
   "metadata": {},
   "outputs": [],
   "source": [
    "layout = dict(title='Highlight Clusters', showlegend=False, updatemenus=updatemenus)\n",
    "fig = dict(data=data, layout=layout)"
   ]
  },
  {
   "cell_type": "code",
   "execution_count": 7,
   "metadata": {},
   "outputs": [
    {
     "data": {
      "text/plain": [
       "'file://C:\\\\Users\\\\c257458\\\\Button_1.html'"
      ]
     },
     "execution_count": 7,
     "metadata": {},
     "output_type": "execute_result"
    }
   ],
   "source": [
    "pyo.plot(fig, filename='Button_1.html')"
   ]
  },
  {
   "cell_type": "code",
   "execution_count": null,
   "metadata": {},
   "outputs": [],
   "source": []
  }
 ],
 "metadata": {
  "kernelspec": {
   "display_name": "Python 3",
   "language": "python",
   "name": "python3"
  },
  "language_info": {
   "codemirror_mode": {
    "name": "ipython",
    "version": 3
   },
   "file_extension": ".py",
   "mimetype": "text/x-python",
   "name": "python",
   "nbconvert_exporter": "python",
   "pygments_lexer": "ipython3",
   "version": "3.6.5"
  }
 },
 "nbformat": 4,
 "nbformat_minor": 2
}
