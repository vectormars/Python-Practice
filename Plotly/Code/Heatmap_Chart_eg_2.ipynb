{
 "cells": [
  {
   "cell_type": "markdown",
   "metadata": {},
   "source": [
    "# Heatmap Chart plot example 2"
   ]
  },
  {
   "cell_type": "code",
   "execution_count": 1,
   "metadata": {},
   "outputs": [],
   "source": [
    "import plotly.offline as pyo\n",
    "import plotly.graph_objs as go\n",
    "from plotly import tools\n",
    "import pandas as pd"
   ]
  },
  {
   "cell_type": "code",
   "execution_count": 2,
   "metadata": {},
   "outputs": [],
   "source": [
    "df1 = pd.read_csv('2010SitkaAK.csv')\n",
    "df2 = pd.read_csv('2010SantaBarbaraCA.csv')\n",
    "df3 = pd.read_csv('2010YumaAZ.csv')"
   ]
  },
  {
   "cell_type": "code",
   "execution_count": 3,
   "metadata": {},
   "outputs": [],
   "source": [
    "trace1 = go.Heatmap(\n",
    "    x=df1['DAY'],\n",
    "    y=df1['LST_TIME'],\n",
    "    z=df1['T_HR_AVG'],\n",
    "    colorscale='Jet',\n",
    "    zmin = 5, zmax = 40 # add max/min color values to make each plot consistent\n",
    ")"
   ]
  },
  {
   "cell_type": "code",
   "execution_count": 4,
   "metadata": {},
   "outputs": [],
   "source": [
    "trace2 = go.Heatmap(\n",
    "    x=df2['DAY'],\n",
    "    y=df2['LST_TIME'],\n",
    "    z=df2['T_HR_AVG'],\n",
    "    colorscale='Jet',\n",
    "    zmin = 5, zmax = 40\n",
    ")"
   ]
  },
  {
   "cell_type": "code",
   "execution_count": 5,
   "metadata": {},
   "outputs": [],
   "source": [
    "trace3 = go.Heatmap(\n",
    "    x=df3['DAY'],\n",
    "    y=df3['LST_TIME'],\n",
    "    z=df3['T_HR_AVG'],\n",
    "    colorscale='Jet',\n",
    "    zmin = 5, zmax = 40\n",
    ")"
   ]
  },
  {
   "cell_type": "code",
   "execution_count": 6,
   "metadata": {},
   "outputs": [
    {
     "name": "stdout",
     "output_type": "stream",
     "text": [
      "This is the format of your plot grid:\n",
      "[ (1,1) x1,y1 ]  [ (1,2) x2,y1 ]  [ (1,3) x3,y1 ]\n",
      "\n"
     ]
    }
   ],
   "source": [
    "fig = tools.make_subplots(rows=1, cols=3,\n",
    "    subplot_titles=('Sitka, AK','Santa Barbara, CA', 'Yuma, AZ'),\n",
    "    shared_yaxes = True,  # this makes the hours appear only on the left\n",
    ")"
   ]
  },
  {
   "cell_type": "code",
   "execution_count": 7,
   "metadata": {},
   "outputs": [],
   "source": [
    "fig.append_trace(trace1, 1, 1)\n",
    "fig.append_trace(trace2, 1, 2)\n",
    "fig.append_trace(trace3, 1, 3)"
   ]
  },
  {
   "cell_type": "code",
   "execution_count": 8,
   "metadata": {},
   "outputs": [],
   "source": [
    "fig['layout'].update(      # access the layout directly!\n",
    "    title='Hourly Temperatures, June 1-7, 2010'\n",
    ")"
   ]
  },
  {
   "cell_type": "code",
   "execution_count": 9,
   "metadata": {},
   "outputs": [
    {
     "data": {
      "text/plain": [
       "'file://C:\\\\Users\\\\c257458\\\\AllThree.html'"
      ]
     },
     "execution_count": 9,
     "metadata": {},
     "output_type": "execute_result"
    }
   ],
   "source": [
    "pyo.plot(fig, filename='AllThree.html')"
   ]
  }
 ],
 "metadata": {
  "kernelspec": {
   "display_name": "Python 3",
   "language": "python",
   "name": "python3"
  },
  "language_info": {
   "codemirror_mode": {
    "name": "ipython",
    "version": 3
   },
   "file_extension": ".py",
   "mimetype": "text/x-python",
   "name": "python",
   "nbconvert_exporter": "python",
   "pygments_lexer": "ipython3",
   "version": "3.6.5"
  }
 },
 "nbformat": 4,
 "nbformat_minor": 2
}
